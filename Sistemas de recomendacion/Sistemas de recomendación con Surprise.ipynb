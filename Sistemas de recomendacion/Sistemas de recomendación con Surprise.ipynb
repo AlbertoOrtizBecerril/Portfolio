{
  "cells": [
    {
      "cell_type": "markdown",
      "source": [
        "# Implementando un sistema de recomendación con la librería Surprise de Python usando los algoritmos KNNBasic y KNNWithMean"
      ],
      "metadata": {
        "id": "kcfNiMRFhOY2"
      }
    },
    {
      "cell_type": "markdown",
      "metadata": {
        "id": "BEIE45vz42Za"
      },
      "source": [
        "# Fase 1 y Fase 2\n",
        "\n",
        "Leer y replicar el ejercicio propuesto de la libreria Surprise en Python propuesto como ejercicio del presente proyecto.\n",
        "\n",
        "Interpretar los resultados obtenidos en el notebook de trabajo, sobre los algoritmos utilizados y las métricas de regresión.\n",
        "\n",
        "He decidido realizarlo todo el proceso de manera paralela, porque considero que con el código delante va a ser más fácil interpretar los resultados y las herramientas implementadas para conseguir llegar a esos resultados."
      ]
    },
    {
      "cell_type": "markdown",
      "source": [
        "Para este artículo debemos explicar varios elementos que vamos a poner en práctica en el desarrollo del proyecto."
      ],
      "metadata": {
        "id": "kyvmIPy-gP7D"
      }
    },
    {
      "cell_type": "markdown",
      "source": [
        "## ¿Qué es un sistema de recomendación?¿Principales SR a conocer por parte del lector?\n"
      ],
      "metadata": {
        "id": "bOG6VylXhMGj"
      }
    },
    {
      "cell_type": "markdown",
      "source": [
        "Un **SR** es un sistema automatizado para sugerir items relevantes para un usuario basado en sus preferencias, comportamiento o historial de interacción con el sistema. \n",
        "\n",
        "Principales tipos descritos brevemente serían:\n",
        "\n",
        "- **Basado en popularidad**: Recomienda los ítems más populares entre todos los usuarios sin tener en cuenta sus preferencias individuales\n",
        "\n",
        "- **Basado en contenido**: utilizan características de los ítems, para encontrar ítems similares y recomendarlos al usuario.\n",
        "\n",
        "- **Híbrido**: Combinan diversos enfoques de recomendación, como la popularidad y el contenido.\n",
        "\n",
        "- **Colaborativo**: Emplean las interacciones y las opiniones de otros usuarios para hacer recomendaciones personalizadas a un usuario. Pudiendo implementar 2 tipos de filtros. **User-item filtering**: se toma a un usuario, se encuentran usuarios similares y se recomiendas ítems que a esos usuarios similares le gustaron. Por otro lado, **item-item filtering**: se toma un item, se encuentran usuarios que les haya gustado ese ítem, y se buscan otros ítems que a esos usuarios les haya gustado."
      ],
      "metadata": {
        "id": "EzF9mn5jibJ1"
      }
    },
    {
      "cell_type": "markdown",
      "source": [
        "## ¿Qué es Surprise?"
      ],
      "metadata": {
        "id": "tfTO_GJQiPcQ"
      }
    },
    {
      "cell_type": "markdown",
      "source": [
        "**Surprise** es una librería de Python enfocada en los sistemas de recomendación, nos permite tratar datos explícitos (expresamente mencionados o proporcionados de manera clara y directa). Realizando filtrados colaborativos (utiliza la información sobre las interacciones previas de los usuarios con los items para recomendar nuevos items relevantes para el usuario seleccionado). \n",
        "\n",
        "Está diseñada para ser fácil de usar, flexible, poder trabajar con diferentes tipos de datos y modelos de recomendación.\n"
      ],
      "metadata": {
        "id": "w2BIpaMwiSWJ"
      }
    },
    {
      "cell_type": "markdown",
      "source": [
        "## Puesta en práctica"
      ],
      "metadata": {
        "id": "GM2WwoaqiFx8"
      }
    },
    {
      "cell_type": "markdown",
      "metadata": {
        "id": "qKhaL320Crco"
      },
      "source": [
        "Pedimos que se descague e instale a través del gestor de paquetes de python: **pip**"
      ]
    },
    {
      "cell_type": "code",
      "execution_count": 1,
      "metadata": {
        "colab": {
          "base_uri": "https://localhost:8080/"
        },
        "id": "NNVZInIjq8ZW",
        "outputId": "6713c0cc-67c0-43fd-a14c-edac52d18ba2"
      },
      "outputs": [
        {
          "output_type": "stream",
          "name": "stdout",
          "text": [
            "Looking in indexes: https://pypi.org/simple, https://us-python.pkg.dev/colab-wheels/public/simple/\n",
            "Collecting scikit-surprise\n",
            "  Downloading scikit-surprise-1.1.3.tar.gz (771 kB)\n",
            "\u001b[2K     \u001b[90m━━━━━━━━━━━━━━━━━━━━━━━━━━━━━━━━━━━━━━━\u001b[0m \u001b[32m772.0/772.0 KB\u001b[0m \u001b[31m9.5 MB/s\u001b[0m eta \u001b[36m0:00:00\u001b[0m\n",
            "\u001b[?25h  Preparing metadata (setup.py) ... \u001b[?25l\u001b[?25hdone\n",
            "Requirement already satisfied: joblib>=1.0.0 in /usr/local/lib/python3.8/dist-packages (from scikit-surprise) (1.2.0)\n",
            "Requirement already satisfied: numpy>=1.17.3 in /usr/local/lib/python3.8/dist-packages (from scikit-surprise) (1.21.6)\n",
            "Requirement already satisfied: scipy>=1.3.2 in /usr/local/lib/python3.8/dist-packages (from scikit-surprise) (1.7.3)\n",
            "Building wheels for collected packages: scikit-surprise\n",
            "  Building wheel for scikit-surprise (setup.py) ... \u001b[?25l\u001b[?25hdone\n",
            "  Created wheel for scikit-surprise: filename=scikit_surprise-1.1.3-cp38-cp38-linux_x86_64.whl size=3366485 sha256=40e8d8a0ee736b1413b8d1e6399ff64deb5d2bc3f6fe283d3c816e81823aab55\n",
            "  Stored in directory: /root/.cache/pip/wheels/af/db/86/2c18183a80ba05da35bf0fb7417aac5cddbd93bcb1b92fd3ea\n",
            "Successfully built scikit-surprise\n",
            "Installing collected packages: scikit-surprise\n",
            "Successfully installed scikit-surprise-1.1.3\n"
          ]
        }
      ],
      "source": [
        "!pip install scikit-surprise"
      ]
    },
    {
      "cell_type": "markdown",
      "metadata": {
        "id": "bcq6DTfrCbAh"
      },
      "source": [
        "Hemos importado las librerías correspondientes, entre ella de las que nos vamos a ayudar principalmente para este Sistema de recomendación **Surprise**.\n",
        "\n",
        "**KNNBasic** y **KNNWithMeans**: Dos algoritmos de recomendación basados en KNN dentro de la librería **Surprise**.\n",
        "\n",
        "**Dataset**: Clase de la librería **Surprise** para almacenar y modificar los datos específicos para llevar a cabo los sistemas de recomendación con esta librería.\n",
        "\n",
        "**Reader**: Clase de la librería **Surprise** para leer los datos y prepararlos para llevar a cabo los sistemas de recomendación con esta librería.\n",
        "\n",
        "**Accuracy**: Función de la librería **Surprise** para evaluar la precisión de nuestros sistemas de recomendación.\n",
        "\n",
        "**Train_test_split**: Función de la librería **Surprise** para dividir el conjunto de los datos en conjunto de entrenamiento y conjunto de test."
      ]
    },
    {
      "cell_type": "code",
      "execution_count": 4,
      "metadata": {
        "id": "0PRHYSfWr6o3"
      },
      "outputs": [],
      "source": [
        "import pandas as pd\n",
        "from surprise import KNNBasic, KNNWithMeans\n",
        "from surprise import Dataset\n",
        "from surprise import Reader\n",
        "from surprise import accuracy\n",
        "from surprise.model_selection import train_test_split"
      ]
    },
    {
      "cell_type": "code",
      "execution_count": 3,
      "metadata": {
        "colab": {
          "base_uri": "https://localhost:8080/"
        },
        "id": "t4FjA46Gqd3W",
        "outputId": "51c04588-b3d3-4181-ffd1-0e13330034c4"
      },
      "outputs": [
        {
          "output_type": "stream",
          "name": "stdout",
          "text": [
            "Mounted at /content/drive\n"
          ]
        }
      ],
      "source": [
        "from google.colab import drive\n",
        "drive.mount('/content/drive')"
      ]
    },
    {
      "cell_type": "markdown",
      "metadata": {
        "id": "oT6gcUfjDBaw"
      },
      "source": [
        "Trabajaremos con los datos de MovieLens (**ratings.dat**).\n",
        "\n",
        "Utilizamos la clase **Reader** (leer datos y prepararlos), le indicamos **line_format** (formato de las líneas en el archivo, le indicamos que la primera columna corresponde a user, posteriormente item, rating y por último timestamp), le indicamos también **sep**, donde los valores se separan a partir de '::'. \n",
        "\n",
        "Posteriormente usamos la clase **Dataset** (almacenar datos y modificarlos), donde cargamos el archivo ratings.dat de la ruta de mi drive en un objeto \"data\" usando el reader de la clase Reader para indicarle cómo debe leer y preparar los datos."
      ]
    },
    {
      "cell_type": "code",
      "source": [
        "reader = Reader(line_format='user item rating timestamp', sep='::',skip_lines=1)\n",
        "data = Dataset.load_from_file('/content/drive/MyDrive/Glosario herramientas para un Data Science/IEBS/Módulo 14. Sistemas de recomendación/Clase 4/ratings.dat', reader=reader)"
      ],
      "metadata": {
        "id": "xmZMMNIAdPYy"
      },
      "execution_count": 5,
      "outputs": []
    },
    {
      "cell_type": "markdown",
      "metadata": {
        "id": "nicDT-SCRxeN"
      },
      "source": [
        "Se divide data a través de **train_test_split**, en un conjunto de entrenamiento al que le asignamos el 70% de los datos y un conjunto de test al que le asignamos el 30% de los datos."
      ]
    },
    {
      "cell_type": "code",
      "execution_count": 6,
      "metadata": {
        "id": "jXDdauG8yG1E"
      },
      "outputs": [],
      "source": [
        "train, test = train_test_split(data, test_size=0.3)"
      ]
    },
    {
      "cell_type": "markdown",
      "metadata": {
        "id": "Llo9-mipSVdk"
      },
      "source": [
        "**KNNBasic** y **KNNWithMeans**: Dos algoritmos de recomendación basados en KNN dentro de la librería **Surprise** donde **KNNBasic** está basado en KNN para hacer las recomendaciones y por otro lado, **KNNWithMeans** se una modificación de **KNNBasic**, pero en este caso se implementa la media de las calificaciones de los vecinos para intentar mejorar las recomendaciones.\n",
        "\n",
        "Para el objeto knn y kMeans utilizamos el algoritmo **KNNBasic** y **KNNWithMeans** donde los requerimientos que solicitamos son que el parámetro **k** correspondiente al número de vecinos más cercanos para la realización de la búsqueda 50 (ambos algoritmos, en el primer caso para user y en el segundo para items) y por otro lado **sim_options** para indicarle al algoritmo a través de este diccionario la medida de similitud a establecer, en el caso del primer algoritmo \"pearson\" y para el segundo \"cosine\". Por último **user_based** para indicarle al algoritmo que criterio debe seguir basándose en usuarios o en items, en el primer algoritmo le indicamos que se base en usuarios, mientras que en el segundo le indicamos que se base en items."
      ]
    },
    {
      "cell_type": "markdown",
      "metadata": {
        "id": "W0s9paTJVR16"
      },
      "source": [
        "Formula pearson"
      ]
    },
    {
      "cell_type": "markdown",
      "source": [
        "$$r = \\frac{\\sum_{i=1}^{n} (x_i - \\bar{x})(y_i - \\bar{y})}{\\sqrt{\\sum_{i=1}^{n} (x_i - \\bar{x})^2} \\sqrt{\\sum_{i=1}^{n} (y_i - \\bar{y})^2}}$$\n"
      ],
      "metadata": {
        "id": "X15vloMsfLXm"
      }
    },
    {
      "cell_type": "markdown",
      "metadata": {
        "id": "9WpI3btXVT2b"
      },
      "source": [
        "Formula similitud del coseno"
      ]
    },
    {
      "cell_type": "markdown",
      "source": [
        "$$similitud(x,y) = \\frac{\\sum_{i=1}^{n} x_i y_i}{\\sqrt{\\sum_{i=1}^{n} x_i^2} \\sqrt{\\sum_{i=1}^{n} y_i^2}}\n",
        "$$"
      ],
      "metadata": {
        "id": "QlQVLjbIf1DX"
      }
    },
    {
      "cell_type": "code",
      "execution_count": 7,
      "metadata": {
        "id": "i6qQ8XcayN0v"
      },
      "outputs": [],
      "source": [
        "knn = KNNBasic(k=50, sim_options={'name': 'pearson', 'user_based': True})\n",
        "kMeans = KNNWithMeans(k=50, sim_options={'name': 'cosine','user_based': False})"
      ]
    },
    {
      "cell_type": "markdown",
      "metadata": {
        "id": "CthlyBf4Vzso"
      },
      "source": [
        "Entrenamos los modelos que hemos creado con el método **fit**  y le suministramos el conjunto de entrenamiento para ello. \n",
        "\n",
        "Podemos apreciar que nos devuelve un mensaje indicándonos que para el primer modelo lo esta computando con la medida de similitud de pearson y posteriormente que se ha completado el cálculo de la matriz de similitud. De manera similar para el segundo modelo pero en este caso con la medida de similitud coseno. \n",
        "\n",
        "Por ultimo la ubicación de la clase en la biblioteca y la dirección de memoria única."
      ]
    },
    {
      "cell_type": "code",
      "execution_count": 8,
      "metadata": {
        "colab": {
          "base_uri": "https://localhost:8080/"
        },
        "id": "GKXrC0PsyYfz",
        "outputId": "a67d42d1-f8da-40e2-ef11-2eb492044705"
      },
      "outputs": [
        {
          "output_type": "stream",
          "name": "stdout",
          "text": [
            "Computing the pearson similarity matrix...\n",
            "Done computing similarity matrix.\n",
            "Computing the cosine similarity matrix...\n",
            "Done computing similarity matrix.\n"
          ]
        },
        {
          "output_type": "execute_result",
          "data": {
            "text/plain": [
              "<surprise.prediction_algorithms.knns.KNNWithMeans at 0x7f92957d8820>"
            ]
          },
          "metadata": {},
          "execution_count": 8
        }
      ],
      "source": [
        "knn.fit(train)\n",
        "kMeans.fit(train)"
      ]
    },
    {
      "cell_type": "markdown",
      "source": [
        "Voy a realizar un ejemplo a mano para el usuario 42, vemos que para item 7, no existe puntuación, que para item 3354 la puntuación es 3, para el item 648 la puntuación fue 4 y para el ítem 2628 la puntuación fue 5."
      ],
      "metadata": {
        "id": "7wnoYUMZmEdG"
      }
    },
    {
      "cell_type": "code",
      "source": [
        "df = pd.read_csv('/content/drive/MyDrive/Glosario herramientas para un Data Science/IEBS/Módulo 14. Sistemas de recomendación/Clase 4/ratings.dat', sep='::')\n",
        "df.columns = ['user', 'item', 'puntuacion','momento']"
      ],
      "metadata": {
        "id": "cuBwZPDnlU1j"
      },
      "execution_count": 18,
      "outputs": []
    },
    {
      "cell_type": "code",
      "source": [
        "df.loc[df['user'] == 42]"
      ],
      "metadata": {
        "colab": {
          "base_uri": "https://localhost:8080/",
          "height": 424
        },
        "id": "rWAC7uzGl7vS",
        "outputId": "9864a005-8beb-4334-9573-acd1f755829d"
      },
      "execution_count": 21,
      "outputs": [
        {
          "output_type": "execute_result",
          "data": {
            "text/plain": [
              "      user  item  puntuacion    momento\n",
              "5702    42  2989           3  978041044\n",
              "5703    42  3421           4  978041747\n",
              "5704    42   648           4  978041143\n",
              "5705    42  3354           3  978040451\n",
              "5706    42  2628           5  978039063\n",
              "...    ...   ...         ...        ...\n",
              "5928    42  1240           5  978040211\n",
              "5929    42  2116           4  978039266\n",
              "5930    42  2117           3  978039659\n",
              "5931    42  2985           5  978040259\n",
              "5932    42  2986           4  978039771\n",
              "\n",
              "[231 rows x 4 columns]"
            ],
            "text/html": [
              "\n",
              "  <div id=\"df-0d1ed146-4b39-4ec5-b993-2001f009c48d\">\n",
              "    <div class=\"colab-df-container\">\n",
              "      <div>\n",
              "<style scoped>\n",
              "    .dataframe tbody tr th:only-of-type {\n",
              "        vertical-align: middle;\n",
              "    }\n",
              "\n",
              "    .dataframe tbody tr th {\n",
              "        vertical-align: top;\n",
              "    }\n",
              "\n",
              "    .dataframe thead th {\n",
              "        text-align: right;\n",
              "    }\n",
              "</style>\n",
              "<table border=\"1\" class=\"dataframe\">\n",
              "  <thead>\n",
              "    <tr style=\"text-align: right;\">\n",
              "      <th></th>\n",
              "      <th>user</th>\n",
              "      <th>item</th>\n",
              "      <th>puntuacion</th>\n",
              "      <th>momento</th>\n",
              "    </tr>\n",
              "  </thead>\n",
              "  <tbody>\n",
              "    <tr>\n",
              "      <th>5702</th>\n",
              "      <td>42</td>\n",
              "      <td>2989</td>\n",
              "      <td>3</td>\n",
              "      <td>978041044</td>\n",
              "    </tr>\n",
              "    <tr>\n",
              "      <th>5703</th>\n",
              "      <td>42</td>\n",
              "      <td>3421</td>\n",
              "      <td>4</td>\n",
              "      <td>978041747</td>\n",
              "    </tr>\n",
              "    <tr>\n",
              "      <th>5704</th>\n",
              "      <td>42</td>\n",
              "      <td>648</td>\n",
              "      <td>4</td>\n",
              "      <td>978041143</td>\n",
              "    </tr>\n",
              "    <tr>\n",
              "      <th>5705</th>\n",
              "      <td>42</td>\n",
              "      <td>3354</td>\n",
              "      <td>3</td>\n",
              "      <td>978040451</td>\n",
              "    </tr>\n",
              "    <tr>\n",
              "      <th>5706</th>\n",
              "      <td>42</td>\n",
              "      <td>2628</td>\n",
              "      <td>5</td>\n",
              "      <td>978039063</td>\n",
              "    </tr>\n",
              "    <tr>\n",
              "      <th>...</th>\n",
              "      <td>...</td>\n",
              "      <td>...</td>\n",
              "      <td>...</td>\n",
              "      <td>...</td>\n",
              "    </tr>\n",
              "    <tr>\n",
              "      <th>5928</th>\n",
              "      <td>42</td>\n",
              "      <td>1240</td>\n",
              "      <td>5</td>\n",
              "      <td>978040211</td>\n",
              "    </tr>\n",
              "    <tr>\n",
              "      <th>5929</th>\n",
              "      <td>42</td>\n",
              "      <td>2116</td>\n",
              "      <td>4</td>\n",
              "      <td>978039266</td>\n",
              "    </tr>\n",
              "    <tr>\n",
              "      <th>5930</th>\n",
              "      <td>42</td>\n",
              "      <td>2117</td>\n",
              "      <td>3</td>\n",
              "      <td>978039659</td>\n",
              "    </tr>\n",
              "    <tr>\n",
              "      <th>5931</th>\n",
              "      <td>42</td>\n",
              "      <td>2985</td>\n",
              "      <td>5</td>\n",
              "      <td>978040259</td>\n",
              "    </tr>\n",
              "    <tr>\n",
              "      <th>5932</th>\n",
              "      <td>42</td>\n",
              "      <td>2986</td>\n",
              "      <td>4</td>\n",
              "      <td>978039771</td>\n",
              "    </tr>\n",
              "  </tbody>\n",
              "</table>\n",
              "<p>231 rows × 4 columns</p>\n",
              "</div>\n",
              "      <button class=\"colab-df-convert\" onclick=\"convertToInteractive('df-0d1ed146-4b39-4ec5-b993-2001f009c48d')\"\n",
              "              title=\"Convert this dataframe to an interactive table.\"\n",
              "              style=\"display:none;\">\n",
              "        \n",
              "  <svg xmlns=\"http://www.w3.org/2000/svg\" height=\"24px\"viewBox=\"0 0 24 24\"\n",
              "       width=\"24px\">\n",
              "    <path d=\"M0 0h24v24H0V0z\" fill=\"none\"/>\n",
              "    <path d=\"M18.56 5.44l.94 2.06.94-2.06 2.06-.94-2.06-.94-.94-2.06-.94 2.06-2.06.94zm-11 1L8.5 8.5l.94-2.06 2.06-.94-2.06-.94L8.5 2.5l-.94 2.06-2.06.94zm10 10l.94 2.06.94-2.06 2.06-.94-2.06-.94-.94-2.06-.94 2.06-2.06.94z\"/><path d=\"M17.41 7.96l-1.37-1.37c-.4-.4-.92-.59-1.43-.59-.52 0-1.04.2-1.43.59L10.3 9.45l-7.72 7.72c-.78.78-.78 2.05 0 2.83L4 21.41c.39.39.9.59 1.41.59.51 0 1.02-.2 1.41-.59l7.78-7.78 2.81-2.81c.8-.78.8-2.07 0-2.86zM5.41 20L4 18.59l7.72-7.72 1.47 1.35L5.41 20z\"/>\n",
              "  </svg>\n",
              "      </button>\n",
              "      \n",
              "  <style>\n",
              "    .colab-df-container {\n",
              "      display:flex;\n",
              "      flex-wrap:wrap;\n",
              "      gap: 12px;\n",
              "    }\n",
              "\n",
              "    .colab-df-convert {\n",
              "      background-color: #E8F0FE;\n",
              "      border: none;\n",
              "      border-radius: 50%;\n",
              "      cursor: pointer;\n",
              "      display: none;\n",
              "      fill: #1967D2;\n",
              "      height: 32px;\n",
              "      padding: 0 0 0 0;\n",
              "      width: 32px;\n",
              "    }\n",
              "\n",
              "    .colab-df-convert:hover {\n",
              "      background-color: #E2EBFA;\n",
              "      box-shadow: 0px 1px 2px rgba(60, 64, 67, 0.3), 0px 1px 3px 1px rgba(60, 64, 67, 0.15);\n",
              "      fill: #174EA6;\n",
              "    }\n",
              "\n",
              "    [theme=dark] .colab-df-convert {\n",
              "      background-color: #3B4455;\n",
              "      fill: #D2E3FC;\n",
              "    }\n",
              "\n",
              "    [theme=dark] .colab-df-convert:hover {\n",
              "      background-color: #434B5C;\n",
              "      box-shadow: 0px 1px 3px 1px rgba(0, 0, 0, 0.15);\n",
              "      filter: drop-shadow(0px 1px 2px rgba(0, 0, 0, 0.3));\n",
              "      fill: #FFFFFF;\n",
              "    }\n",
              "  </style>\n",
              "\n",
              "      <script>\n",
              "        const buttonEl =\n",
              "          document.querySelector('#df-0d1ed146-4b39-4ec5-b993-2001f009c48d button.colab-df-convert');\n",
              "        buttonEl.style.display =\n",
              "          google.colab.kernel.accessAllowed ? 'block' : 'none';\n",
              "\n",
              "        async function convertToInteractive(key) {\n",
              "          const element = document.querySelector('#df-0d1ed146-4b39-4ec5-b993-2001f009c48d');\n",
              "          const dataTable =\n",
              "            await google.colab.kernel.invokeFunction('convertToInteractive',\n",
              "                                                     [key], {});\n",
              "          if (!dataTable) return;\n",
              "\n",
              "          const docLinkHtml = 'Like what you see? Visit the ' +\n",
              "            '<a target=\"_blank\" href=https://colab.research.google.com/notebooks/data_table.ipynb>data table notebook</a>'\n",
              "            + ' to learn more about interactive tables.';\n",
              "          element.innerHTML = '';\n",
              "          dataTable['output_type'] = 'display_data';\n",
              "          await google.colab.output.renderOutput(dataTable, element);\n",
              "          const docLink = document.createElement('div');\n",
              "          docLink.innerHTML = docLinkHtml;\n",
              "          element.appendChild(docLink);\n",
              "        }\n",
              "      </script>\n",
              "    </div>\n",
              "  </div>\n",
              "  "
            ]
          },
          "metadata": {},
          "execution_count": 21
        }
      ]
    },
    {
      "cell_type": "code",
      "source": [
        "df.loc[(df['user'] == 42) & (df['item'] == 7)]"
      ],
      "metadata": {
        "colab": {
          "base_uri": "https://localhost:8080/",
          "height": 50
        },
        "id": "dqp5DekBlwHe",
        "outputId": "cb4ccf46-9d23-41ac-8d95-c613b15f3790"
      },
      "execution_count": 20,
      "outputs": [
        {
          "output_type": "execute_result",
          "data": {
            "text/plain": [
              "Empty DataFrame\n",
              "Columns: [user, item, puntuacion, momento]\n",
              "Index: []"
            ],
            "text/html": [
              "\n",
              "  <div id=\"df-8e023c02-6819-43d7-82b2-38e2c28b26d6\">\n",
              "    <div class=\"colab-df-container\">\n",
              "      <div>\n",
              "<style scoped>\n",
              "    .dataframe tbody tr th:only-of-type {\n",
              "        vertical-align: middle;\n",
              "    }\n",
              "\n",
              "    .dataframe tbody tr th {\n",
              "        vertical-align: top;\n",
              "    }\n",
              "\n",
              "    .dataframe thead th {\n",
              "        text-align: right;\n",
              "    }\n",
              "</style>\n",
              "<table border=\"1\" class=\"dataframe\">\n",
              "  <thead>\n",
              "    <tr style=\"text-align: right;\">\n",
              "      <th></th>\n",
              "      <th>user</th>\n",
              "      <th>item</th>\n",
              "      <th>puntuacion</th>\n",
              "      <th>momento</th>\n",
              "    </tr>\n",
              "  </thead>\n",
              "  <tbody>\n",
              "  </tbody>\n",
              "</table>\n",
              "</div>\n",
              "      <button class=\"colab-df-convert\" onclick=\"convertToInteractive('df-8e023c02-6819-43d7-82b2-38e2c28b26d6')\"\n",
              "              title=\"Convert this dataframe to an interactive table.\"\n",
              "              style=\"display:none;\">\n",
              "        \n",
              "  <svg xmlns=\"http://www.w3.org/2000/svg\" height=\"24px\"viewBox=\"0 0 24 24\"\n",
              "       width=\"24px\">\n",
              "    <path d=\"M0 0h24v24H0V0z\" fill=\"none\"/>\n",
              "    <path d=\"M18.56 5.44l.94 2.06.94-2.06 2.06-.94-2.06-.94-.94-2.06-.94 2.06-2.06.94zm-11 1L8.5 8.5l.94-2.06 2.06-.94-2.06-.94L8.5 2.5l-.94 2.06-2.06.94zm10 10l.94 2.06.94-2.06 2.06-.94-2.06-.94-.94-2.06-.94 2.06-2.06.94z\"/><path d=\"M17.41 7.96l-1.37-1.37c-.4-.4-.92-.59-1.43-.59-.52 0-1.04.2-1.43.59L10.3 9.45l-7.72 7.72c-.78.78-.78 2.05 0 2.83L4 21.41c.39.39.9.59 1.41.59.51 0 1.02-.2 1.41-.59l7.78-7.78 2.81-2.81c.8-.78.8-2.07 0-2.86zM5.41 20L4 18.59l7.72-7.72 1.47 1.35L5.41 20z\"/>\n",
              "  </svg>\n",
              "      </button>\n",
              "      \n",
              "  <style>\n",
              "    .colab-df-container {\n",
              "      display:flex;\n",
              "      flex-wrap:wrap;\n",
              "      gap: 12px;\n",
              "    }\n",
              "\n",
              "    .colab-df-convert {\n",
              "      background-color: #E8F0FE;\n",
              "      border: none;\n",
              "      border-radius: 50%;\n",
              "      cursor: pointer;\n",
              "      display: none;\n",
              "      fill: #1967D2;\n",
              "      height: 32px;\n",
              "      padding: 0 0 0 0;\n",
              "      width: 32px;\n",
              "    }\n",
              "\n",
              "    .colab-df-convert:hover {\n",
              "      background-color: #E2EBFA;\n",
              "      box-shadow: 0px 1px 2px rgba(60, 64, 67, 0.3), 0px 1px 3px 1px rgba(60, 64, 67, 0.15);\n",
              "      fill: #174EA6;\n",
              "    }\n",
              "\n",
              "    [theme=dark] .colab-df-convert {\n",
              "      background-color: #3B4455;\n",
              "      fill: #D2E3FC;\n",
              "    }\n",
              "\n",
              "    [theme=dark] .colab-df-convert:hover {\n",
              "      background-color: #434B5C;\n",
              "      box-shadow: 0px 1px 3px 1px rgba(0, 0, 0, 0.15);\n",
              "      filter: drop-shadow(0px 1px 2px rgba(0, 0, 0, 0.3));\n",
              "      fill: #FFFFFF;\n",
              "    }\n",
              "  </style>\n",
              "\n",
              "      <script>\n",
              "        const buttonEl =\n",
              "          document.querySelector('#df-8e023c02-6819-43d7-82b2-38e2c28b26d6 button.colab-df-convert');\n",
              "        buttonEl.style.display =\n",
              "          google.colab.kernel.accessAllowed ? 'block' : 'none';\n",
              "\n",
              "        async function convertToInteractive(key) {\n",
              "          const element = document.querySelector('#df-8e023c02-6819-43d7-82b2-38e2c28b26d6');\n",
              "          const dataTable =\n",
              "            await google.colab.kernel.invokeFunction('convertToInteractive',\n",
              "                                                     [key], {});\n",
              "          if (!dataTable) return;\n",
              "\n",
              "          const docLinkHtml = 'Like what you see? Visit the ' +\n",
              "            '<a target=\"_blank\" href=https://colab.research.google.com/notebooks/data_table.ipynb>data table notebook</a>'\n",
              "            + ' to learn more about interactive tables.';\n",
              "          element.innerHTML = '';\n",
              "          dataTable['output_type'] = 'display_data';\n",
              "          await google.colab.output.renderOutput(dataTable, element);\n",
              "          const docLink = document.createElement('div');\n",
              "          docLink.innerHTML = docLinkHtml;\n",
              "          element.appendChild(docLink);\n",
              "        }\n",
              "      </script>\n",
              "    </div>\n",
              "  </div>\n",
              "  "
            ]
          },
          "metadata": {},
          "execution_count": 20
        }
      ]
    },
    {
      "cell_type": "markdown",
      "metadata": {
        "id": "yzG3T5LdY8EE"
      },
      "source": [
        "Tenemos los modelos entrenados, en este caso realizamos un ejemplo donde seleccionamos el **user_id**: 42 (usuario con el nº id 42) y **item_id**: 7 (item con el identificador 7). Llamamos al método **predict** y la predicción de la calificación que el user 42 dispondrá sobre el item 7 se almacenan en **knn_user_prediction** y  **kMeans_user_prediction**."
      ]
    },
    {
      "cell_type": "code",
      "execution_count": 22,
      "metadata": {
        "id": "LjCCPSOp3YPR",
        "colab": {
          "base_uri": "https://localhost:8080/"
        },
        "outputId": "13bb59a0-96e5-4472-9771-e82d0e1da82d"
      },
      "outputs": [
        {
          "output_type": "stream",
          "name": "stdout",
          "text": [
            "user: 42         item: 7          r_ui = None   est = 3.64   {'actual_k': 50, 'was_impossible': False}\n",
            "user: 42         item: 7          r_ui = None   est = 3.37   {'actual_k': 50, 'was_impossible': False}\n"
          ]
        }
      ],
      "source": [
        "user_id = str(42)\n",
        "item_id = str(7)\n",
        "knn_user_prediction = knn.predict(user_id, item_id)\n",
        "kMeans_user_prediction = kMeans.predict(user_id, item_id)\n",
        "print(knn_user_prediction)\n",
        "print(kMeans_user_prediction)"
      ]
    },
    {
      "cell_type": "markdown",
      "source": [
        "Para item 3354 la puntuación es 3, para el item 648 la puntuación fue 4 y para el ítem 2628 la puntuación fue 5. Podemos ver en esta serie de ejemplos las estimaciones. Para estos casos al existir una relación de puntuación real entre user e ítem, la representamos en r_ui con su valor asociado."
      ],
      "metadata": {
        "id": "DUd0ei4Fmtxn"
      }
    },
    {
      "cell_type": "code",
      "execution_count": 27,
      "metadata": {
        "id": "jiMtaN5TnjQb",
        "colab": {
          "base_uri": "https://localhost:8080/"
        },
        "outputId": "ae7bc67f-144e-4a95-fbbd-583fd46c4948"
      },
      "outputs": [
        {
          "output_type": "stream",
          "name": "stdout",
          "text": [
            "user: 42         item: 3354       r_ui = 3.00   est = 2.64   {'actual_k': 50, 'was_impossible': False}\n",
            "user: 42         item: 3354       r_ui = 3.00   est = 2.76   {'actual_k': 50, 'was_impossible': False}\n"
          ]
        }
      ],
      "source": [
        "user_id = str(42)\n",
        "item_id = str(3354)\n",
        "knn_user_prediction = knn.predict(user_id, item_id, r_ui=3)\n",
        "kMeans_user_prediction = kMeans.predict(user_id, item_id, r_ui=3)\n",
        "print(knn_user_prediction)\n",
        "print(kMeans_user_prediction)"
      ]
    },
    {
      "cell_type": "code",
      "execution_count": 28,
      "metadata": {
        "id": "8dayD46Mp4wD",
        "colab": {
          "base_uri": "https://localhost:8080/"
        },
        "outputId": "89c1b0d1-9256-4825-8ebe-b798742b4ddb"
      },
      "outputs": [
        {
          "output_type": "stream",
          "name": "stdout",
          "text": [
            "user: 42         item: 648        r_ui = 4.00   est = 3.34   {'actual_k': 50, 'was_impossible': False}\n",
            "user: 42         item: 648        r_ui = 4.00   est = 3.44   {'actual_k': 50, 'was_impossible': False}\n"
          ]
        }
      ],
      "source": [
        "user_id = str(42)\n",
        "item_id = str(648)\n",
        "knn_user_prediction = knn.predict(user_id, item_id, r_ui=4)\n",
        "kMeans_user_prediction = kMeans.predict(user_id, item_id, r_ui=4)\n",
        "print(knn_user_prediction)\n",
        "print(kMeans_user_prediction)"
      ]
    },
    {
      "cell_type": "code",
      "source": [
        "user_id = str(42)\n",
        "item_id = str(2628)\n",
        "knn_user_prediction = knn.predict(user_id, item_id, r_ui=5)\n",
        "kMeans_user_prediction = kMeans.predict(user_id, item_id, r_ui=5)\n",
        "print(knn_user_prediction)\n",
        "print(kMeans_user_prediction)"
      ],
      "metadata": {
        "colab": {
          "base_uri": "https://localhost:8080/"
        },
        "id": "SJY4Z093m46i",
        "outputId": "5a57f1ef-53f2-4477-b6a2-1717bd0405c3"
      },
      "execution_count": 29,
      "outputs": [
        {
          "output_type": "stream",
          "name": "stdout",
          "text": [
            "user: 42         item: 2628       r_ui = 5.00   est = 4.33   {'actual_k': 50, 'was_impossible': False}\n",
            "user: 42         item: 2628       r_ui = 5.00   est = 3.61   {'actual_k': 50, 'was_impossible': False}\n"
          ]
        }
      ]
    },
    {
      "cell_type": "markdown",
      "metadata": {
        "id": "HFx_S6idgfcH"
      },
      "source": [
        "En este caso, llevamos a cabo las predicciones con **knn.test** y **kMeans.test** sobre el conjunto de test y se almacenan en **knn_test_predictions** y **kMeans_test_predictions**. A continuación evaluamos las precisiones de las predicciones implementando **accuracy.rmse** para que nos calcule el error cuadrático medio de ambos algoritmos y almacenar los resultados en **knn_rmse** y **kMeans_rmse**."
      ]
    },
    {
      "cell_type": "code",
      "execution_count": 31,
      "metadata": {
        "colab": {
          "base_uri": "https://localhost:8080/"
        },
        "id": "MPsMVnLtykJI",
        "outputId": "fc9ed4d7-fb22-4f12-e556-fd15053304ad"
      },
      "outputs": [
        {
          "output_type": "stream",
          "name": "stdout",
          "text": [
            "RMSE: 0.9640\n",
            "RMSE: 0.8983\n",
            "KNN RMSE: 0.9640204768914648\n",
            "KMeans RMSE: 0.8982688105231328\n"
          ]
        }
      ],
      "source": [
        "knn_test_predictions = knn.test(test)\n",
        "kMeans_test_predictions = kMeans.test(test)\n",
        "knn_rmse = accuracy.rmse(knn_test_predictions)\n",
        "kMeans_rmse = accuracy.rmse(kMeans_test_predictions)\n",
        "print('KNN RMSE: ' + str(knn_rmse))\n",
        "print('KMeans RMSE: ' + str(kMeans_rmse))"
      ]
    },
    {
      "cell_type": "markdown",
      "metadata": {
        "id": "V8cb8IfjiHqy"
      },
      "source": [
        "# Conclusiones"
      ]
    },
    {
      "cell_type": "markdown",
      "metadata": {
        "id": "SFQizvIyiQcW"
      },
      "source": [
        "## Resultados"
      ]
    },
    {
      "cell_type": "markdown",
      "source": [
        "$$ RMSE = \\sqrt{\\frac{1}{n} \\sum_{i=1}^{n} (y_i - \\hat{y_i})^2} $$"
      ],
      "metadata": {
        "id": "dcRO1IVPoXVR"
      }
    },
    {
      "cell_type": "markdown",
      "metadata": {
        "id": "FdBZgS9SiRu_"
      },
      "source": [
        "**RMSE** es la raíz cuadrada de la media de los errores al cuadrado entre los valores reales y los valores predecidos. Cuanto más bajo sea el RMSE, mejor será la precisión del modelo. En vista de los resultados podríamos concluir que el modelo KMeans es un modelo que minimiza en mayor medida el error(0.8982)."
      ]
    },
    {
      "cell_type": "markdown",
      "metadata": {
        "id": "dqN8UvkRUt0D"
      },
      "source": [
        "## Posibles modificaciones"
      ]
    },
    {
      "cell_type": "markdown",
      "metadata": {
        "id": "XXnW-r6QAvO_"
      },
      "source": [
        "Hemos seleccionado una serie de hiperparámetros como son k=50 (Voy a hacerlo para k=30 y k=70)\n",
        "\n",
        "La mejora de hiperparámetros debería realizarla fuera de **Surprise**, pero como solo voy a poner 2 casos (uno por encima y otro por debajo a modo de ejemplo no llevará demasiado tiempo). Se podría haber realizado un GridSearch para varios de los hiperparámetros para asegurarnos que nos estamos acercando al mejor modelo posible.\n",
        "\n",
        "En los 2 casos aquí mencionados no mejoró el planteado en el apartado de los resultados."
      ]
    },
    {
      "cell_type": "code",
      "execution_count": null,
      "metadata": {
        "colab": {
          "base_uri": "https://localhost:8080/"
        },
        "id": "uHDd7SlN4v4o",
        "outputId": "20c4e3f0-6cfb-41c7-82f7-22c67229fa26"
      },
      "outputs": [
        {
          "name": "stdout",
          "output_type": "stream",
          "text": [
            "Computing the pearson similarity matrix...\n",
            "Done computing similarity matrix.\n",
            "Computing the cosine similarity matrix...\n",
            "Done computing similarity matrix.\n",
            "RMSE: 0.9698\n",
            "RMSE: 0.8995\n"
          ]
        }
      ],
      "source": [
        "knn = KNNBasic(k=30, sim_options={'name': 'pearson', 'user_based': True})\n",
        "kMeans = KNNWithMeans(k=30, sim_options={'name': 'cosine','user_based': False})\n",
        "knn.fit(train)\n",
        "kMeans.fit(train)\n",
        "knn_test_predictions = knn.test(test)\n",
        "kMeans_test_predictions = kMeans.test(test)\n",
        "knn_rmse = accuracy.rmse(knn_test_predictions)\n",
        "kMeans_rmse = accuracy.rmse(kMeans_test_predictions)"
      ]
    },
    {
      "cell_type": "code",
      "execution_count": 30,
      "metadata": {
        "colab": {
          "base_uri": "https://localhost:8080/"
        },
        "id": "z_OIr6xDAwdX",
        "outputId": "c7c17a68-fb28-4ec5-f638-0a2d65b393ba"
      },
      "outputs": [
        {
          "output_type": "stream",
          "name": "stdout",
          "text": [
            "Computing the pearson similarity matrix...\n",
            "Done computing similarity matrix.\n",
            "Computing the cosine similarity matrix...\n",
            "Done computing similarity matrix.\n",
            "RMSE: 0.9640\n",
            "RMSE: 0.8983\n"
          ]
        }
      ],
      "source": [
        "knn = KNNBasic(k=70, sim_options={'name': 'pearson', 'user_based': True})\n",
        "kMeans = KNNWithMeans(k=70, sim_options={'name': 'cosine','user_based': False})\n",
        "knn.fit(train)\n",
        "kMeans.fit(train)\n",
        "knn_test_predictions = knn.test(test)\n",
        "kMeans_test_predictions = kMeans.test(test)\n",
        "knn_rmse = accuracy.rmse(knn_test_predictions)\n",
        "kMeans_rmse = accuracy.rmse(kMeans_test_predictions)"
      ]
    }
  ],
  "metadata": {
    "accelerator": "GPU",
    "colab": {
      "toc_visible": true,
      "provenance": []
    },
    "gpuClass": "standard",
    "kernelspec": {
      "display_name": "Python 3",
      "name": "python3"
    },
    "language_info": {
      "name": "python"
    }
  },
  "nbformat": 4,
  "nbformat_minor": 0
}